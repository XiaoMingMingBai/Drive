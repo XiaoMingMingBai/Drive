{
 "cells": [
  {
   "cell_type": "markdown",
   "metadata": {},
   "source": [
    "# 1. linux 内核模块\n",
    "linux 内核模块三要素：入口、出口、许可证"
   ]
  },
  {
   "cell_type": "markdown",
   "metadata": {},
   "source": [
    "## 1.1 模块编写基本"
   ]
  },
  {
   "cell_type": "code",
   "execution_count": null,
   "metadata": {
    "vscode": {
     "languageId": "c"
    }
   },
   "outputs": [],
   "source": [
    "#include <linux/init.h>\n",
    "#include <linux/module.h>\n",
    "// 入口\n",
    "// static :限定作用域\n",
    "// int    :函数的返回值类型\n",
    "// __init :内核中定义的宏，#define __init __section(\".init.text\") \n",
    "// .init.text是一个段，在内核链接脚本（vmlinux.lds）中可以找到它\n",
    "// __init告诉编译器将demo_init函数放在.init.text段中\n",
    "// demo_init:入口函数的名字，习惯上入口命名格式：led_init adc_init uart_init...\n",
    "// (void) :没有参数\n",
    "static int __init demo_init(void)\n",
    "{\n",
    "    return 0;\n",
    "}\n",
    "static void __exit demo_exit(void)\n",
    "{\n",
    "}\n",
    "module_init(demo_init); //告诉内核入口地址\n",
    "module_exit(demo_exit); //告诉内核出口地址\n",
    "MODULE_LICENSE(\"GPL\");  // 许可证"
   ]
  },
  {
   "cell_type": "markdown",
   "metadata": {},
   "source": [
    "## 1.2 接口"
   ]
  },
  {
   "cell_type": "code",
   "execution_count": null,
   "metadata": {
    "vscode": {
     "languageId": "c"
    }
   },
   "outputs": [],
   "source": [
    "/**\n",
    " * @功能：打印函数\n",
    " * @参数：fmt 格式化字符串\n",
    " * @返回值：打印字符的个数\n",
    " * @备注：可变参数\n",
    "*/\n",
    "int printk(const char *fmt, ...);"
   ]
  },
  {
   "cell_type": "code",
   "execution_count": null,
   "metadata": {
    "vscode": {
     "languageId": "c"
    }
   },
   "outputs": [],
   "source": [
    "/**\n",
    " * @功能：接受命令的参数\n",
    " * @参数：name  参数名， type 参数类型， perm 参数权限\n",
    " *      @type：Standard types are:\n",
    " *\t            byte, hexint, short, ushort, int, uint, long, ulong\n",
    " *\t            charp: a character pointer\n",
    " *\t            bool: a bool, values 0/1, y/n, Y/N.\n",
    " *\t            invbool: the above, only sense-reversed (N = true).\n",
    " * @返回值：无\n",
    " * @备注：无\n",
    "*/\n",
    "moudle_param(name, type, perm)\n",
    "\n",
    "/**\n",
    " * @功能：对变量进行描述\n",
    " * @参数：_parm 变量名， desc：描述\n",
    " * @返回值：无\n",
    " * @备注：无\n",
    "*/\n",
    "MODULE_PARM_DESC(_parm, desc)\n",
    "\n",
    "/**\n",
    " * @功能：导出符号表\n",
    " * @参数：add 函数名\n",
    " * @返回值：无\n",
    " * @备注：无\n",
    "*/\n",
    "EXPORT_SYMBOL_GPL(add)"
   ]
  },
  {
   "cell_type": "markdown",
   "metadata": {},
   "source": [
    "# 2. 字符设备驱动\n",
    "按照字节流访问，只能顺序访问，不能无序访问的设备。"
   ]
  },
  {
   "cell_type": "markdown",
   "metadata": {},
   "source": [
    "## 2.1 接口"
   ]
  },
  {
   "cell_type": "code",
   "execution_count": null,
   "metadata": {
    "vscode": {
     "languageId": "c"
    }
   },
   "outputs": [],
   "source": [
    "#include <linux/fs.h>\n",
    "/**\n",
    " * @功能：注册字符设备驱动\n",
    " * @参数：major：主设备号，name：设备名，fops：文件操作集\n",
    " * @返回值：成功返回0，失败返回负值\n",
    " * @备注：如果major为0，则由系统自动分配主设备号\n",
    "*/\n",
    "int register_chrdev(unsigned int major, const char *name, const struct file_operations *fops)\n",
    "\n",
    "/**\n",
    " * @功能：注销字符设备驱动\n",
    " * @参数：major：主设备号，name：设备名\n",
    " * @返回值：无\n",
    " * @备注：无\n",
    "*/\n",
    "void unregister_chrdev(unsigned int major, const char *name)"
   ]
  },
  {
   "cell_type": "code",
   "execution_count": null,
   "metadata": {
    "vscode": {
     "languageId": "c"
    }
   },
   "outputs": [],
   "source": [
    "#include <linux/uaccess.h>\n",
    "/**\n",
    " * @功能：从用户空间拷贝数据到内核空间\n",
    " * @参数：to：目标地址，from：源地址，n：拷贝字节数\n",
    " * @返回值：成功返回0，失败返回拷贝失败的字节数\n",
    " * @备注：无\n",
    "*/\n",
    "unsigned long copy_from_user(void *to, const void __user *from, unsigned long n)\n",
    "\n",
    "/**\n",
    " * @功能：从内核空间拷贝数据到用户空间\n",
    " * @参数：to：目标地址，from：源地址，n：拷贝字节数\n",
    " * @返回值：成功返回0，失败返回拷贝失败的字节数\n",
    " * @备注：无\n",
    "*/\n",
    "unsigned long copy_from_user(void *to, const void __user *from, unsigned long n)"
   ]
  },
  {
   "cell_type": "code",
   "execution_count": null,
   "metadata": {
    "vscode": {
     "languageId": "c"
    }
   },
   "outputs": [],
   "source": [
    "#include <linux/io.h>\n",
    "/**\n",
    " * @功能：将物理地址映射到内核虚拟地址空间\n",
    " * @参数：phy_addr：物理地址，size：映射字节数\n",
    " * @返回值：映射成功返回内核虚拟地址，失败返回NULL\n",
    " * @备注：无\n",
    "*/\n",
    "void  *ioremap(resource_size_t phy_addr, size_t size)\n",
    "\n",
    "/**\n",
    " * @功能：解除内核虚拟地址空间的映射\n",
    " * @参数：virt_addr：内核虚拟地址\n",
    " * @返回值：无\n",
    " * @备注：无\n",
    "*/\n",
    "void iounmap(volatile void  *virt_addr)"
   ]
  },
  {
   "cell_type": "code",
   "execution_count": null,
   "metadata": {
    "vscode": {
     "languageId": "c"
    }
   },
   "outputs": [],
   "source": [
    "#include <linux/device.h>\n",
    "/**\n",
    " * @功能：创建一个class\n",
    " * @参数：owner：模块的拥有者，name：class的名字\n",
    " * @返回值：成功返回class指针，失败返回NULL\n",
    " * @备注：无\n",
    "*/\n",
    "struct class * class_create(owner, name)\n",
    "/**\n",
    " * @功能：注销一个class\n",
    " * @参数：cls：class指针\n",
    " * @返回值：无\n",
    " * @备注：无\n",
    "*/\n",
    "void class_destroy(struct class *cls)\n",
    "\n",
    "/**\n",
    " * @功能：创建一个device\n",
    " * @参数：class：class指针，parent：父设备指针，devt：设备号，drvdata：驱动数据，fmt：设备名，...：变参\n",
    " * @返回值：成功返回device指针，失败返回NULL\n",
    " * @备注：fmt,... - 设备名，如 \"myled%d\"，%d - myled0, myled1, ...\n",
    "*/\n",
    "struct device *device_create(struct class *class, struct device *parent, dev_t devt, void *drvdata, const char *fmt, ...)\n",
    "/**\n",
    " * @功能：注销一个device\n",
    " * @参数：class：class指针，devt：设备号\n",
    " * @返回值：无\n",
    " * @备注：无\n",
    "*/\n",
    "void device_destroy(struct class *class, dev_t devt)"
   ]
  },
  {
   "cell_type": "code",
   "execution_count": null,
   "metadata": {
    "vscode": {
     "languageId": "c"
    }
   },
   "outputs": [],
   "source": [
    "#include <linux/cdev.h>\n",
    "/**\n",
    " * @功能：分配一个cdev对象\n",
    " * @参数：无\n",
    " * @返回值：成功返回cdev指针，失败返回NULL\n",
    " * @备注：无\n",
    "*/\n",
    "struct cdev *cdev_alloc(void)\n",
    "\n",
    "/**\n",
    " * @功能：初始化一个cdev对象\n",
    " * @参数：cdev：cdev指针，fops：文件操作集\n",
    " * @返回值：无\n",
    " * @备注：无\n",
    "*/\n",
    "void cdev_init(struct cdev *cdev, const struct file_operations *fops)\n",
    "\n",
    "/**\n",
    " * @功能：添加一个cdev对象到系统\n",
    " * @参数：p：cdev指针，dev：设备号，count：设备号个数\n",
    " * @返回值：成功返回0，失败返回负值\n",
    " * @备注：无\n",
    "*/\n",
    "int cdev_add(struct cdev *p, dev_t dev, unsigned count)\n",
    "\n",
    "/**\n",
    " * @功能：注册指定的设备号\n",
    " * @参数：from: 起始设备号，count：设备号个数，name：设备名\n",
    " * @返回值：成功返回0，失败返回负值\n",
    " * @备注：主设备号不能超过511，\n",
    "*/\n",
    "int register_chrdev_region(dev_t from, unsigned count, const char *name)\n",
    "/**\n",
    " * @功能：注销指定的设备号\n",
    " * @参数：from: 起始设备号，count：设备号个数\n",
    " * @返回值：无\n",
    " * @备注：无\n",
    "*/\n",
    "void unregister_chrdev_region(dev_t from, unsigned count)\n",
    "\n",
    "/**\n",
    " * @功能: 动态注册设备号\n",
    " * @参数：dev：申请到的设备号指针，firstminor：起始次设备号，count：设备号个数，name：设备名\n",
    " * @返回值：成功返回0，失败返回负值\n",
    " * @备注：无\n",
    "*/\n",
    "int alloc_chrdev_region(dev_t *dev, unsigned int firstminor, unsigned int count, const char *name)\n"
   ]
  },
  {
   "cell_type": "code",
   "execution_count": null,
   "metadata": {
    "vscode": {
     "languageId": "c"
    }
   },
   "outputs": [],
   "source": []
  },
  {
   "cell_type": "markdown",
   "metadata": {},
   "source": [
    "## 2.2 结构体"
   ]
  },
  {
   "cell_type": "code",
   "execution_count": null,
   "metadata": {
    "vscode": {
     "languageId": "c"
    }
   },
   "outputs": [],
   "source": [
    "// 文件操作结构体\n",
    "struct file_operations {\n",
    "    struct module *owner;\n",
    "    loff_t (*llseek) (struct file *, loff_t, int);\n",
    "    ssize_t (*read) (struct file *, char __user *, size_t, loff_t *);\n",
    "    ssize_t (*write) (struct file *, const char __user *, size_t, loff_t *);\n",
    "    ssize_t (*aio_read) (struct kiocb *, const struct iovec *, unsigned long, loff_t);\n",
    "    ssize_t (*aio_write) (struct kiocb *, const struct iovec *, unsigned long, loff_t);\n",
    "    int (*readdir) (struct file *, void *, filldir_t);\n",
    "    unsigned int (*poll) (struct file *, struct poll_table_struct *);\n",
    "    long (*unlocked_ioctl) (struct file *, unsigned int, unsigned long);\n",
    "    long (*compat_ioctl) (struct file *, unsigned int, unsigned long);\n",
    "    int (*mmap) (struct file *, struct vm_area_struct *);\n",
    "    int (*open) (struct inode *, struct file *);\n",
    "    int (*flush) (struct file *, fl_owner_t id);\n",
    "    int (*release) (struct inode *, struct file *);\n",
    "    int (*fsync) (struct file *, loff_t, loff_t, int datasync);\n",
    "    int (*aio_fsync) (struct kiocb *, int datasync);\n",
    "    int (*fasync) (int, struct file *, int);\n",
    "    int (*lock) (struct file *, int, struct file_lock *);\n",
    "    ssize_t (*sendpage) (struct file *, struct page *, int, size_t, loff_t *, int);\n",
    "    unsigned long (*get_unmapped_area)(struct file *, unsigned long, unsigned long, unsigned long, unsigned long);\n",
    "    int (*check_flags)(int);\n",
    "    int (*flock) (struct file *, int, struct file_lock *);\n",
    "    ssize_t (*splice_write)(struct pipe_inode_info *, struct file *, loff_t *, size_t, unsigned int);\n",
    "    ssize_t (*splice_read)(struct file *, loff_t *, struct pipe_inode_info *, size_t, unsigned int);\n",
    "    int (*setlease)(struct file *, long, struct file_lock **, void **);\n",
    "    long (*fallocate)(struct file *file, int mode, loff_t offset, loff_t len);\n",
    "};"
   ]
  },
  {
   "cell_type": "code",
   "execution_count": null,
   "metadata": {
    "vscode": {
     "languageId": "c"
    }
   },
   "outputs": [],
   "source": [
    "// 文件结构体\n",
    "struct file {\n",
    "    struct path     f_path;\n",
    "    struct inode    *f_inode;       /* cached value */\n",
    "    const struct file_operations    *f_op;\n",
    "    spinlock_t      f_lock;         /* f_ep_links, f_flags, no IRQ */\n",
    "    atomic_long_t   f_count;\n",
    "    unsigned int    f_flags;\n",
    "    fmode_t         f_mode;\n",
    "    loff_t          f_pos;\n",
    "    struct fown_struct f_owner;\n",
    "    const struct cred *f_cred;\n",
    "    struct file_ra_state    f_ra;\n",
    "    u64             f_version;\n",
    "#ifdef CONFIG_SECURITY\n",
    "    void            *f_security;\n",
    "#endif\n",
    "    /* needed for tty driver, and maybe others */\n",
    "    void            *private_data;\n",
    "#ifdef CONFIG_EPOLL\n",
    "    /* Used by fs/eventpoll.c to link all the hooks to this file */\n",
    "    struct list_head    f_ep_links;\n",
    "    struct list_head    f_tfile_llink;\n",
    "#endif /* #ifdef CONFIG_EPOLL */\n",
    "    struct address_space    *f_mapping;\n",
    "#ifdef CONFIG_DEBUG_WRITECOUNT\n",
    "    unsigned long f_mnt_write_state;\n",
    "#endif\n",
    "};"
   ]
  },
  {
   "cell_type": "markdown",
   "metadata": {},
   "source": [
    "# 3. 内核中的并发和竞态\n",
    "当多个进程通过同一个驱动（临界资源）访问硬件的时候，竞态就会产生。有 5 种解决方案来优化程序。"
   ]
  },
  {
   "cell_type": "markdown",
   "metadata": {},
   "source": [
    "## 3.1 中断屏蔽\n",
    "暂时的关闭中断，只针对单核处理器有效。"
   ]
  },
  {
   "cell_type": "code",
   "execution_count": null,
   "metadata": {
    "vscode": {
     "languageId": "c"
    }
   },
   "outputs": [],
   "source": [
    "local_irq_disable();\n",
    "// 临界区\n",
    "local_irq_enable();"
   ]
  },
  {
   "cell_type": "markdown",
   "metadata": {},
   "source": [
    "## 3.2 自旋锁（忙等锁）\n",
    "除首次获得锁之外的进程尝试获取锁会进入自旋状态直到获得锁的进程释放锁。"
   ]
  },
  {
   "cell_type": "code",
   "execution_count": null,
   "metadata": {
    "vscode": {
     "languageId": "c"
    }
   },
   "outputs": [],
   "source": [
    "// 由于自旋锁内的代码不能太长，所以常用来加锁一个信号量\n",
    "int flag;\n",
    "// 1. 定义一个自旋锁\n",
    "spinlock_t my_lock;\n",
    "// 2. 初始化自旋锁\n",
    "/**\n",
    " * @功能：初始化自旋锁\n",
    " * @参数：lock：自旋锁指针\n",
    " * @返回值：无\n",
    " * @备注：无\n",
    "*/\n",
    "void spin_lock_init(spinlock_t *lock);\n",
    "// 3. 加锁\n",
    "/**\n",
    " * @功能：加锁\n",
    " * @参数：lock：自旋锁指针\n",
    " * @返回值：无\n",
    " * @备注：无\n",
    "*/\n",
    "void spin_lock(spinlock_t *lock);\n",
    "// 4. 解锁\n",
    "/**\n",
    " * @功能：解锁\n",
    " * @参数：lock：自旋锁指针\n",
    " * @返回值：无\n",
    " * @备注：无\n",
    "*/\n",
    "void spin_unlock(spinlock_t *lock);"
   ]
  },
  {
   "cell_type": "markdown",
   "metadata": {},
   "source": [
    "## 3.3 信号量\n",
    "除首次获得信号量之外的进程尝试获取信号量会进入休眠状态直到获得获得信号量的进程释放信号量，休眠不消耗消耗 CPU 资源。"
   ]
  },
  {
   "cell_type": "code",
   "execution_count": null,
   "metadata": {
    "vscode": {
     "languageId": "c"
    }
   },
   "outputs": [],
   "source": [
    "// 1. 定义一个信号量\n",
    "struct semaphore my_sem;\n",
    "// 2. 初始化信号量\n",
    "/**\n",
    " * @功能：初始化信号量\n",
    " * @参数：sem：信号量指针，val：信号量初始值\n",
    " * @返回值：无\n",
    " * @备注：val一般为1，表示只有一个进程可以访问临界区\n",
    "*/\n",
    "void sema_init(struct semaphore *sem, int val);\n",
    "// 3. 加锁\n",
    "/**\n",
    " * @功能：加锁\n",
    " * @参数：sem：信号量指针\n",
    " * @返回值：无\n",
    " * @备注：让信号量的值减1，如果值为0，则休眠等待\n",
    "*/\n",
    "void down(struct semaphore *sem);\n",
    "// 4. 解锁\n",
    "/**\n",
    " * @功能：解锁\n",
    " * @参数：sem：信号量指针\n",
    " * @返回值：无\n",
    " * @备注：让信号量的值加1，如果值为0，则唤醒等待的进程\n",
    "*/\n",
    "void up(struct semaphore *sem);\n",
    "// 5. 尝试加锁\n",
    "/**\n",
    " * @功能：尝试加锁\n",
    " * @参数：sem：信号量指针\n",
    " * @返回值：成功返回0，失败返回1\n",
    " * @备注：不会休眠，相当于非阻塞\n",
    "*/\n",
    "int down_trylock(struct semaphore *sem);"
   ]
  },
  {
   "cell_type": "markdown",
   "metadata": {},
   "source": [
    "## 3.4 互斥体\n",
    "互斥体与信号量的区别是在获取不到资源的情况下，会稍微等一会再进入休眠。  \n",
    "通常在不确定临界区大小的时候，优先使用互斥体。"
   ]
  },
  {
   "cell_type": "code",
   "execution_count": null,
   "metadata": {
    "vscode": {
     "languageId": "c"
    }
   },
   "outputs": [],
   "source": [
    "// 1. 定义一个互斥锁\n",
    "struct mutex my_mutex;\n",
    "// 2. 初始化互斥锁\n",
    "/**\n",
    " * @功能：初始化互斥锁\n",
    " * @参数：lock：互斥锁指针\n",
    " * @返回值：无\n",
    " * @备注：无\n",
    "*/\n",
    "void mutex_init(struct mutex *lock);\n",
    "// 3. 加锁\n",
    "/**\n",
    " * @功能：加锁\n",
    " * @参数：lock：互斥锁指针\n",
    " * @返回值：无\n",
    " * @备注：无\n",
    "*/\n",
    "void mutex_lock(struct mutex *lock);\n",
    "// 4. 解锁\n",
    "/**\n",
    " * @功能：解锁\n",
    " * @参数：lock：互斥锁指针\n",
    " * @返回值：无\n",
    " * @备注：无\n",
    "*/\n",
    "void mutex_unlock(struct mutex *lock);\n",
    "// 5. 尝试加锁\n",
    "/**\n",
    " * @功能：尝试加锁\n",
    " * @参数：lock：互斥锁指针\n",
    " * @返回值：成功返回1，失败返回0\n",
    " * @备注：无\n",
    "*/\n",
    "int mutex_trylock(struct mutex *lock);"
   ]
  },
  {
   "cell_type": "markdown",
   "metadata": {},
   "source": [
    "## 3.5 原子操作\n",
    "相当于将整个操作看成一个不可被分割的状态，只要开始执行就必须一次执行完。对应原子变量同时只能有一个核处理。在一个核上运行的时候修改 counter 是通过内联汇编完成的。"
   ]
  },
  {
   "cell_type": "code",
   "execution_count": null,
   "metadata": {
    "vscode": {
     "languageId": "c"
    }
   },
   "outputs": [],
   "source": [
    "typedef struct {\n",
    "    int counter;\n",
    "} atomic_t;"
   ]
  },
  {
   "cell_type": "code",
   "execution_count": null,
   "metadata": {
    "vscode": {
     "languageId": "c"
    }
   },
   "outputs": [],
   "source": [
    "// 1. 定义一个原子变量\n",
    "atomic_t my_atomic;\n",
    "// 2. 初始化原子变量\n",
    "ATOMIC_INIT(my_atomic);\n",
    "// 3. 读取原子变量的值\n",
    "/**\n",
    " * @功能：读取原子变量的值\n",
    " * @参数：v：原子变量指针\n",
    " * @返回值：原子变量的值\n",
    " * @备注：无\n",
    "*/\n",
    "int atomic_read(atomic_t *v);\n",
    "// 4. 设置原子变量的值\n",
    "/**\n",
    " * @功能：设置原子变量的值\n",
    " * @参数：v：原子变量指针，i：要设置的值\n",
    " * @返回值：无\n",
    " * @备注：无\n",
    "*/\n",
    "void atomic_set(atomic_t *v, int i);\n",
    "// 5. 原子变量加1\n",
    "/**\n",
    " * @功能：原子变量加1\n",
    " * @参数：v：原子变量指针\n",
    " * @返回值：无\n",
    " * @备注：无\n",
    "*/\n",
    "void atomic_inc(atomic_t *v);\n",
    "// 6. 原子变量减1\n",
    "/**\n",
    " * @功能：原子变量减1\n",
    " * @参数：v：原子变量指针\n",
    " * @返回值：无\n",
    " * @备注：无\n",
    "*/\n",
    "void atomic_dec(atomic_t *v);\n",
    "// "
   ]
  },
  {
   "cell_type": "markdown",
   "metadata": {},
   "source": [
    "# 4. IO模型"
   ]
  },
  {
   "cell_type": "markdown",
   "metadata": {},
   "source": [
    "## 4.1 非阻塞IO\n",
    "调用函数读取数据的时候，不管数据是否准备好函数都会立即返回。"
   ]
  },
  {
   "cell_type": "markdown",
   "metadata": {},
   "source": [
    "## 4.2 阻塞IO模型\n",
    "调用函数读取数据的时候，如果数据准备好了就会立即返回，如果数据没有准备好则进程休眠。"
   ]
  },
  {
   "cell_type": "code",
   "execution_count": null,
   "metadata": {
    "vscode": {
     "languageId": "c"
    }
   },
   "outputs": [],
   "source": [
    "// 1. 定义信号\n",
    "unsigned int flag;\n",
    "\n",
    "// 2. 定义等待队列头\n",
    "wait_queue_head_t my_queue;\n",
    "\n",
    "// 3. 初始化等待队列头\n",
    "/**\n",
    " * @功能：初始化等待队列头\n",
    " * @参数：q：等待队列头指针\n",
    " * @返回值：无\n",
    " * @备注：无\n",
    "*/\n",
    "void init_waitqueue_head(wait_queue_head_t *q);\n",
    "\n",
    "// 4. 进程加入等待队列\n",
    "/**\n",
    " * @功能：进程加入等待队列\n",
    " * @参数：q：等待队列头指针，flag：信号\n",
    " * @返回值：无\n",
    " * @备注：无\n",
    "*/\n",
    "void wait_event(wait_queue_head_t *q, unsigned int flag);\n",
    "\n",
    "// 5. 进程加入等待队列，超时\n",
    "wait_event_timeout(my_queue, flag, 1000);\n",
    "\n",
    "// 6. 进程加入等待队列，中断\n",
    "/**\n",
    " * @功能：进程加入等待队列，中断\n",
    " * @参数：q：等待队列头指针，flag：信号\n",
    " * @返回值：无\n",
    " * @备注：无\n",
    "*/\n",
    "int wait_event_interruptible(wait_queue_head_t *q, unsigned int flag);\n",
    "\n",
    "// 7. 进程加入等待队列，中断，超时\n",
    "/**\n",
    " * @功能：进程加入等待队列，中断，超时\n",
    " * @参数：q：等待队列头指针，flag：信号，timeout：超时时间\n",
    " * @返回值：无\n",
    "*/\n",
    "int wait_event_interruptible_timeout(wait_queue_head_t *q, unsigned int flag, long timeout);\n",
    "\n",
    "// 8. flag置为1\n",
    "flag = 1;\n",
    "\n",
    "// 9. 唤醒等待队列头\n",
    "/**\n",
    " * @功能：唤醒等待队列头\n",
    " * @参数：q：等待队列头指针\n",
    " * @返回值：无\n",
    "*/\n",
    "void wake_up(wait_queue_head_t *q);\n",
    "\n",
    "// 10. 唤醒等待队列头，中断\n",
    "/**\n",
    " * @功能：唤醒等待队列头，中断\n",
    " * @参数：q：等待队列头指针\n",
    " * @返回值：无\n",
    "*/\n",
    "void wake_up_interruptible(wait_queue_head_t *q);\n"
   ]
  },
  {
   "cell_type": "markdown",
   "metadata": {},
   "source": [
    "## 4.3 IO多路复用\n",
    "在同一个app应用程序中如果想要同时监听多个fd对应数据。就需要使用select/poll/epoll来完成监听。如果所有的文件描述符的数据都没有准备好，此时进程休眠。如果有一个或者多个硬件的数据准备好就会，产生硬件中断，在处理函数中唤醒休眠的进程。此时select/poll/epoll就会返回，从就绪的表中找到准备好数据的文件描述符，然后调用read将数据读取到用户空间即可。"
   ]
  },
  {
   "cell_type": "code",
   "execution_count": null,
   "metadata": {
    "vscode": {
     "languageId": "c"
    }
   },
   "outputs": [],
   "source": [
    "// 1. 定义返回值\n",
    "__poll_t mask = 0;\n",
    "\n",
    "// 2. 阻塞等待\n",
    "/**\n",
    " * @ 功能：阻塞等待\n",
    " * @ 参数：file 文件指针, my_queue 等待队列, wait 等待条件\n",
    " * @ 返回值：无\n",
    "*/\n",
    "poll_wait(file, &my_queue, wait);\n",
    "\n",
    "// 3. 判断是否可读\n",
    "if (flag) {\n",
    "    mask |= POLLIN | POLLRDNORM; //EPOLLIN 读  EPOLLOUT写\n",
    "}\n",
    "\n",
    "// 4. 返回\n",
    "return mask;"
   ]
  },
  {
   "cell_type": "markdown",
   "metadata": {},
   "source": [
    "# 5. 设备树\n",
    "对于相同SOC的不同板卡，只需更换设备树文件.dtb即可实现不同板卡的无差异支持"
   ]
  },
  {
   "cell_type": "markdown",
   "metadata": {},
   "source": [
    "## 5.1 设备树语法\n",
    "设备树是节点和属性组成的树状结构。属性是键值对，节点可以同时包含属性和子节点。"
   ]
  },
  {
   "cell_type": "markdown",
   "metadata": {},
   "source": [
    "### 5.1.1 节点\n",
    "`<name>[@<unit-address>]`   \n",
    "`name`:节点的类型名，name不能够超过31个字符   \n",
    "`unit-address`:节点内的地址，如果节点内有地址信息就可以填充，如果没有地址信息省略   \n",
    "1. 节点可以取别名\n",
    "    ```c\n",
    "    node:mynode@0x12345678{\n",
    "        string1 = \"aaaa\";\n",
    "    };\n",
    "    //node就是mynode@0x12345678的别名\n",
    "    ```\n",
    "2. 节点可以被引用\n",
    "    ```c\n",
    "    &node{\n",
    "    string1 = \"bbbb\";\n",
    "    };\n",
    "    ```\n",
    "3. 节点可以合并（同名节点合并）\n",
    "    ```c\n",
    "    mynode@0x12345678{\n",
    "        string1 = \"aaaa\";\n",
    "        string2 = \"bbbb\";\n",
    "    };\n",
    "    ```\n",
    "4. 节点内属性可以删除\n",
    "    ```c\n",
    "    /delete-property/属性名;\n",
    "    ```"
   ]
  },
  {
   "cell_type": "markdown",
   "metadata": {},
   "source": [
    "### 5.1.2 属性格式\n",
    "* 文本字符串(可以有空格)用双引号表示:   \n",
    "`string-property = \"a string\";`\n",
    "* Cells'是由尖括号分隔的32位无符号整数:   \n",
    "`cell-property = <0xbeef 123 0xabcd1234>;`\n",
    "* 十六进制表示的单字节的数用方括号分隔:   \n",
    "`binary-property = [00 01 23 45 67];`\n",
    "* 混合类型可以用逗号连接在一起:   \n",
    "`mixed-property = \"a string\", [0x01 0x23 0x45 0x67], <0x12345678>;`\n",
    "* 逗号也用于创建字符串列表:   \n",
    "`string-list = \"red fish\", \"blue fish\";`"
   ]
  },
  {
   "cell_type": "markdown",
   "metadata": {},
   "source": [
    "### 5.1.3 语法示例"
   ]
  },
  {
   "cell_type": "code",
   "execution_count": null,
   "metadata": {
    "vscode": {
     "languageId": "dts"
    }
   },
   "outputs": [],
   "source": [
    "/dts-v1/; // 设备树版本\n",
    "\n",
    "/ {   //   /{};  设备树的根节点，所有的节点写在根节点之内\n",
    "    node1 {  // node1{};  根节点的子节点\n",
    "        a-string-property = \"A string\";\n",
    "        a-string-list-property = \"first string\", \"second string\";\n",
    "        a-byte-data-property = [01 23 34 56];\n",
    "        child-node1 {  //node1的子节点\n",
    "            first-child-property;  //空属性，标识作用\n",
    "            second-child-property = <1>;\n",
    "            a-string-property = \"Hello, world\";\n",
    "        };\n",
    "        child-node2 { //node1的子节点\n",
    "        };\n",
    "    };\n",
    "    node2 {  //根节点子节点\n",
    "        an-empty-property;\n",
    "        a-cell-property = <1 2 3 4>; /* each number (cell) is a uint32 */\n",
    "        child-node1 {\n",
    "        };\n",
    "    };\n",
    "};"
   ]
  },
  {
   "cell_type": "markdown",
   "metadata": {},
   "source": [
    "## 5.2 设备树节点获取"
   ]
  },
  {
   "cell_type": "code",
   "execution_count": null,
   "metadata": {
    "vscode": {
     "languageId": "c"
    }
   },
   "outputs": [],
   "source": [
    "// 1.device_node结构体\n",
    "// 设备树的每一个节点都是通过device_node结构体来描述的\n",
    "struct device_node {\n",
    "    const char *name;  //设备树节点的名字  \"mynode\"\n",
    "    const char *full_name; //设备树节点的全名 \"mynode@0x12345678\"\n",
    "    struct property *properties; //属性的结构体\n",
    "    struct device_node *parent;  //指向父节点\n",
    "    struct device_node *child;   //指向子节点\n",
    "    struct device_node *sibling; //指向兄弟节点\n",
    "};\n",
    "// 2.property结构体\n",
    "// 在设备树节点内，所有的属性都是通过property节点描述的，当前节点内属性构成一条property链表\n",
    "struct property {\n",
    "    char *name; //属性名 “键”\n",
    "    int length;     //值的长度（单位字节）\n",
    "    void *value; //属性值 “值”\n",
    "    struct property *next; //指向下一个property结构体\n",
    "}\n",
    "// 3.设备树节点获取函数\n",
    "/**\n",
    " * @功能：根据节点路径获取节点\n",
    " * @参数：path：节点路径 \"/mynode@0x12345678\"\n",
    " * @返回值：成功返回节点首地址，失败返回NULL\n",
    " * @备注：无\n",
    "*/\n",
    "struct device_node *of_find_node_by_path(const char *path)\n",
    "\n",
    "/**\n",
    " * @功能：根据节点名字获取节点\n",
    " * @参数：from：NULL，表示从根节点开始解析，name：节点名\n",
    " * @返回值：成功返回节点首地址，失败返回NULL\n",
    " * @备注：无\n",
    "*/\n",
    "struct device_node *of_find_node_by_name(struct device_node *from,\n",
    "    const char *name)\n",
    "\n",
    "/**\n",
    " * @功能：根据compatible获取节点\n",
    " * @参数：from：NULL，表示从根节点开始解析，type：NULL，compatible：厂商名，设备名\n",
    " * @返回值：成功返回节点首地址，失败返回NULL\n",
    " * @备注：无\n",
    "*/\n",
    "struct device_node *of_find_compatible_node(struct device_node *from,\n",
    "    const char *type, const char *compatible)\n",
    "// 4.设备树属性解析函数\n",
    "/**\n",
    " * @功能：获取属性\n",
    " * @参数：np：节点指针，name：键，lenp：获取到的值的长度\n",
    " * @返回值：成功返回属性结构体地址，失败返回NULL\n",
    " * @备注：无\n",
    "*/\n",
    "struct property *of_find_property(const struct device_node *np,\n",
    "    const char *name,int *lenp)\n",
    "\n",
    "__b32_to_cpup() //将大端的数据转换为小端数据"
   ]
  },
  {
   "cell_type": "markdown",
   "metadata": {},
   "source": [
    "# 6. GPIO 子系统"
   ]
  },
  {
   "cell_type": "markdown",
   "metadata": {},
   "source": [
    "## 6.1 接口"
   ]
  },
  {
   "cell_type": "code",
   "execution_count": null,
   "metadata": {
    "vscode": {
     "languageId": "c"
    }
   },
   "outputs": [],
   "source": [
    "/**\n",
    " * @功能：解析得到gpio号\n",
    " * @参数：np：节点指针，propname：键名，index：键对应值的下标\n",
    " * @返回值：成功返回gpio号，失败返回错误码\n",
    " * @备注：无\n",
    "*/\n",
    "int of_get_named_gpio(struct device_node *np,\n",
    " const char *propname, int index)\n",
    "\n",
    "/**\n",
    " * @功能：申请要使用的gpio\n",
    " * @参数：gpio：gpio编号（设备树），label:名字（NULL）\n",
    " * @返回值：成功返回0，失败返回错误码\n",
    " * @备注：无\n",
    "*/\n",
    "int gpio_request(unsigned gpio, const char *label)\n",
    "\n",
    "/**\n",
    " * @功能：设置管脚的方向为输入\n",
    " * @参数：gpio：gpio编号\n",
    " * @返回值：成功返回0，失败返回错误码\n",
    " * @备注：无\n",
    "*/\n",
    "int gpio_direction_input(unsigned gpio)\n",
    "\n",
    "/**\n",
    " * @功能：设置管脚的方向为输出\n",
    " * @参数：gpio：gpio编号，value：1高  0低电平\n",
    " * @返回值：成功返回0，失败返回错误码\n",
    " * @备注：无\n",
    "*/\n",
    "int gpio_direction_output(unsigned gpio, int value) \n",
    "\n",
    "/**\n",
    " * @功能：设置电平的状态\n",
    " * @参数：gpio：gpio编号，value：1高  0低电平\n",
    " * @返回值：无\n",
    " * @备注：无\n",
    "*/\n",
    "void gpio_set_value(unsigned gpio, int value)\n",
    "\n",
    "/**\n",
    " * @功能：获取电平的状态\n",
    " * @参数：gpio：gpio编号\n",
    " * @返回值：1高电平，0低电平\n",
    " * @备注：无\n",
    "*/\n",
    "int gpio_get_value(unsigned gpio)\n",
    "\n",
    "/**\n",
    " * @功能：释放gpio\n",
    " * @参数：gpio：gpio编号\n",
    " * @返回值：无\n",
    " * @备注：无\n",
    "*/\n",
    "void gpio_free(unsigned gpio)"
   ]
  },
  {
   "cell_type": "markdown",
   "metadata": {},
   "source": [
    "# 7. 中断子系统"
   ]
  },
  {
   "cell_type": "markdown",
   "metadata": {},
   "source": [
    "## 7.1 中断\n",
    "中断是基于硬件实现的，有无linux内核中断的处理的流程都是一样的。"
   ]
  },
  {
   "cell_type": "markdown",
   "metadata": {},
   "source": [
    "### 7.1.1 中断的产生\n",
    "异常处理流程（4 大步，3 小步）\n",
    "1. 将cpsr保存到spsr中\n",
    "2. 设置cpsr\n",
    "    1. 设置为arm核为svc模型\n",
    "    2. 如果有必要进制相应的中断\n",
    "    3. 设置为对应的异常模式\n",
    "3. 保存LR\n",
    "4. 设置PC到对应的执行的位置"
   ]
  },
  {
   "cell_type": "markdown",
   "metadata": {},
   "source": [
    "### 7.1.2 接口"
   ]
  },
  {
   "cell_type": "code",
   "execution_count": null,
   "metadata": {
    "vscode": {
     "languageId": "c"
    }
   },
   "outputs": [],
   "source": [
    "/**\n",
    " * @功能：获取软中断号\n",
    " * @参数：np：设备树节点指针，index：中断号索引\n",
    " * @返回值：成功返回软中断号，失败返回0\n",
    " * @备注：无\n",
    "*/\n",
    "unsigned int irq_of_parse_and_map(struct device_node *np,int index)\n",
    "\n",
    "#include <linux/interrupt.h>\n",
    "/**\n",
    " * @功能：注册中断\n",
    " * @参数：irq：软中断号（设备树），handler：中断处理函数，flags：中断触发方式，\n",
    " *        name：中断的名字，dev：向中断处理函数传递的参数\n",
    " *      @handler:中断处理函数\n",
    " *         irqreturn_t key_handle(int irqno, void *dev)\n",
    " *         {\n",
    " *              //中断处理\n",
    " *              return  IRQ_NONE; //中断没有正常处理\n",
    " *              return  IRQ_HANDLED //中断正常处理函数\n",
    " *         }\n",
    " *      @flags:中断触发方式\n",
    " *          #define IRQF_TRIGGER_RISING\t0x00000001\n",
    " *          #define IRQF_TRIGGER_FALLING\t0x00000002\n",
    " *          #define IRQF_TRIGGER_HIGH\t0x00000004\n",
    " *          #define IRQF_TRIGGER_LOW\t0x00000008\n",
    " *          #define IRQF_SHARED\t\t0x00000080\n",
    " *      @name:中断的名字  cat    /proc/interrupts\n",
    " * @返回值：成功返回0，失败返回错误码\n",
    " * @备注：中断处理函数的格式：irqreturn_t key_handle(int irqno, void *dev)\n",
    "*/\n",
    "int request_irq(unsigned int irq, irq_handler_t handler, unsigned long flags,\n",
    "     const char *name, void *dev)\n",
    "/**\n",
    " * @功能：释放中断\n",
    " * @参数：irq：软中断号，dev_id：向中断处理函数传递的参数\n",
    " * @返回值：无\n",
    "*/\n",
    "const void *free_irq(unsigned int irq, void *dev_id)"
   ]
  },
  {
   "cell_type": "markdown",
   "metadata": {},
   "source": [
    "## 7.2 定时器\n",
    "jiffies: 内核时钟节拍数， 在 linux 内核中它一直增加。\n",
    "内核中的定时器频率可通过 make menuconfig -> kernel hacking -> timer frequency 来设置。宏 HZ\n",
    "周期：10ms"
   ]
  },
  {
   "cell_type": "markdown",
   "metadata": {},
   "source": [
    "### 7.2.1 定时器的使用"
   ]
  },
  {
   "cell_type": "code",
   "execution_count": null,
   "metadata": {
    "vscode": {
     "languageId": "c"
    }
   },
   "outputs": [],
   "source": [
    "// 1.分配定时器的对象\n",
    "struct timer_list {\n",
    "    struct hlist_node entry;  //构成内核链表\n",
    "    unsigned long  expires; //定时到期的时间  jiffies+100\n",
    "    void   (*function)(struct timer_list *); //定时器初始函数\n",
    "    u32\t\t\tflags; //定时器的标志位 0\n",
    "};\n",
    "struct timer_list mytimer;\n",
    "\n",
    "// 2.初始化定时\n",
    "mytimer.expires = jiffies + 100;\n",
    "/**\n",
    " * @功能：设置定时器的处理函数\n",
    " * @参数：定时器对象，定时器处理函数，定时器标志位\n",
    " * @返回值：无\n",
    "*/\n",
    "timer_setup(&mytimer, mytimer_function, 0);\n",
    "\n",
    "// 3.启动定时器\n",
    "/**\n",
    " * @功能：启动定时器\n",
    " * @参数：timer_list对象\n",
    " * @返回值：无\n",
    "*/\n",
    "void add_timer(struct timer_list *timer);\n",
    "\n",
    "// 3.1 再次启动定时器\n",
    "/**\n",
    " * @功能：再次启动定时器\n",
    " * @参数：timer : timer_list对象，expires : 定时器到期时间\n",
    " * @返回值：无\n",
    "*/\n",
    "int mod_timer(struct timer_list *timer, unsigned long expires);\n",
    "\n",
    "// 4.删除定时器\n",
    "/**\n",
    " * @功能：删除定时器\n",
    " * @参数：timer : timer_list对象\n",
    " * @返回值：无\n",
    "*/\n",
    "int del_timer(struct timer_list * timer);"
   ]
  },
  {
   "cell_type": "markdown",
   "metadata": {},
   "source": [
    "# 8. platform 总线驱动"
   ]
  },
  {
   "cell_type": "markdown",
   "metadata": {},
   "source": [
    "# 9. IIC 总线驱动"
   ]
  },
  {
   "cell_type": "markdown",
   "metadata": {},
   "source": [
    "## 9.1 IIC 信号\n",
    "起始信号：当scl为高电平的时候，sda从高到低的跳变\n",
    "停止信号：当scl为高电平的时候，sda从低到高的跳变\n",
    "应答信号：在第9个时钟周期的时候，sda这根线是低电平\n",
    "非应答信号：在第9个时钟周期的时候，sda这根线是高电平\n",
    "## 9.2 IIC 数据收发协议\n",
    "写：`start+(7bit从机地址+1bit写0)+ack+(8bit/16bit寄存器地址)+ack+(8bit/16bit数据)+ack+stop`   \n",
    "读：`start+(7bit从机地址+1bit写0)+ack+(8bit/16bit寄存器地址)+ack+start+(7bit从机地址+1bit读1)+ack+(从机给主机返回的数据8bit/16bit)+No Ack+stop`\n",
    "## 9.3 速率\n",
    "100KHz(低速) 400KHz(全速) 3.4MHz(高速)   \n",
    "stm32mp157a的i2c控制器的最高速率1MHz   \n",
    "stm32mp157a是异构核，cortex-a7的速率是650MHz，cortex-m4的速率是209MHz\n",
    "## 9.4 特点\n",
    "i2c是一个同步，串行的，具备应答机制的半双工的总线协议\n",
    "## 9.5 编写流程"
   ]
  },
  {
   "cell_type": "code",
   "execution_count": null,
   "metadata": {
    "vscode": {
     "languageId": "c"
    }
   },
   "outputs": [],
   "source": [
    "// 1.分配并初始化对象\n",
    "struct i2c_driver {\n",
    "    int (*probe)(struct i2c_client *client, const struct i2c_device_id *id);\n",
    "    //匹配成功执行的函数\n",
    "    int (*remove)(struct i2c_client *client);\n",
    "    //分离的时候执行的函数\n",
    "    struct device_driver driver;\n",
    "    //父类\n",
    "    const struct i2c_device_id *id_table;\n",
    "    //1. idtable的匹配方法\n",
    "}\n",
    "struct device_driver {\n",
    "    const char  *name; //i2c没有名字匹配方式，一定要填充\n",
    "    const struct of_device_id *of_match_table;//2.设备树匹配\n",
    "};\n",
    "\n",
    "// 2. 注册\n",
    "#define i2c_add_driver(driver) i2c_register_driver(THIS_MODULE, driver)   \n",
    "\n",
    "// 3. 注销\n",
    "/**\n",
    " * @功能：注销i2c_driver\n",
    " * @参数：driver：i2c_driver对象\n",
    " * @返回值：无\n",
    "*/\n",
    "void i2c_del_driver(struct i2c_driver *driver);\n",
    "\n",
    "// 4. 一键注册注销的宏\n",
    "/**\n",
    " * @功能：一键注册i2c_driver\n",
    " * @参数：i2c_driver的变量名\n",
    " * @返回值：无\n",
    "*/\n",
    "module_i2c_driver(i2c_driver的变量名);\n",
    "\n",
    "// 消息发送\n",
    "/**\n",
    " * @功能：i2c发送消息\n",
    " * @参数：adap：i2c_adapter对象，msgs：i2c_msg对象，num：消息个数\n",
    " * @返回值：成功返回发送的消息个数，失败返回负数\n",
    " * @备注：i2c_msg对象包含了发送的地址，数据，长度等信息\n",
    "*/\n",
    "int i2c_transfer(struct i2c_adapter *adap, struct i2c_msg *msgs, int num);"
   ]
  },
  {
   "cell_type": "markdown",
   "metadata": {},
   "source": [
    "### 9.5.1 设备树"
   ]
  },
  {
   "cell_type": "code",
   "execution_count": null,
   "metadata": {
    "vscode": {
     "languageId": "c"
    }
   },
   "outputs": [],
   "source": [
    "// 控制器设备树节点\n",
    "i2c1: i2c@40012000 {\n",
    "    compatible = \"st,stm32mp15-i2c\";\n",
    "    reg = <0x40012000 0x400>;\n",
    "    interrupt-names = \"event\", \"error\";\n",
    "    interrupts-extended = <&exti 21 IRQ_TYPE_LEVEL_HIGH>,\n",
    "    <&intc GIC_SPI 32 IRQ_TYPE_LEVEL_HIGH>;\n",
    "    clocks = <&rcc I2C1_K>;\n",
    "    resets = <&rcc I2C1_R>;\n",
    "    #address-cells = <1>;   //修饰子节点 reg地址个数\n",
    "    #size-cells = <0>;      //修饰子节点 reg地址个数\n",
    "    dmas = <&dmamux1 33 0x400 0x80000001>,\n",
    "    <&dmamux1 34 0x400 0x80000001>;\n",
    "    dma-names = \"rx\", \"tx\";\n",
    "    power-domains = <&pd_core>;\n",
    "    st,syscfg-fmp = <&syscfg 0x4 0x1>;\n",
    "    wakeup-source;\n",
    "    i2c-analog-filter;\n",
    "    status = \"disabled\";  //控制器状态\n",
    "};\n",
    "\n",
    "// 自己的设备树节点\n",
    "// linux-5.10.61/Documentation/devicetree/bindings/i2c\n",
    "&i2c1{\n",
    "    pinctrl-names   = \"default\",\"sleep\";\n",
    "    pinctrl-0   = <&i2c1_pins_b>;      //工作状态：gpiof14和gpiof15复用为AF5功能\n",
    "    pinctrl-1   = <&i2c1_sleep_pins_b>;//休眠状态：将管脚设置为ANALOG \n",
    "    clock-frequency = <100000>;        //i2c速率，默认就是100Khz\n",
    "    i2c-scl-rising-time-ns = <185>;    //上升沿时间\n",
    "    i2c-scl-falling-time-ns = <20>;    //下降沿时间\n",
    "    status = \"okay\";                  //控制器使能\n",
    "    si7006@40{                        //si7006节点\n",
    "        compatible = \"hqyj,si7006\";   //和自己驱动匹配的名字\n",
    "        reg = <0x40>;                 //从机地址\n",
    "    };\n",
    "};"
   ]
  },
  {
   "cell_type": "markdown",
   "metadata": {},
   "source": [
    "### 9.5.2 驱动消息封装"
   ]
  },
  {
   "cell_type": "code",
   "execution_count": null,
   "metadata": {
    "vscode": {
     "languageId": "c"
    }
   },
   "outputs": [],
   "source": [
    "// 驱动消息相关结构体\n",
    "\n",
    "// 1. i2c_client结构体\n",
    "// 当I2C的设备驱动和I2C的总线驱动匹配成功后，就会创建I2C_client结构体，\n",
    "// 这个结构体使用来携带信息的。比如从机地址，总线驱动的对象等都会传递给\n",
    "// IIC的设备驱动。\n",
    "struct i2c_client {\n",
    "    unsigned short flags;  //i2c相关的标志位\n",
    "    I2C_CLIENT_PEC  /* Use Packet Error Checking */\n",
    "    I2C_CLIENT_TEN  /* we have a ten bit chip address */\n",
    "    I2C_CLIENT_SLAVE /* we are the slave */\n",
    "    I2C_CLIENT_SCCB  /* Use Omnivision SCCB protocol */\n",
    "\n",
    "    unsigned short addr; //从机地址，从设备树中解析得到的reg = <0x40>\n",
    "    char name[I2C_NAME_SIZE]; //名字\n",
    "    struct i2c_adapter *adapter;//i2c总线驱动对象（控制器驱动对象）\n",
    "    struct device dev;  // dev.of_node 设备树节点\n",
    "    int irq;    //软中断号\n",
    "};\n",
    "\n",
    "// 2. i2c_msg结构体\n",
    "// i2c_msg结构体是消息结构体，设备驱动和总线驱动进行数据传输的时候，\n",
    "// 就是使用的这个i2c_msg结构体。\n",
    "struct i2c_msg {\n",
    "    __u16 addr;   //从机地址  client->addr\n",
    "    __u16 flags;  //读写标志位 0写    1读\n",
    "    __u16 len;   //消息的长度\n",
    "    __u8 *buf;   //指向消息的首地址\n",
    "};"
   ]
  },
  {
   "cell_type": "markdown",
   "metadata": {},
   "source": [
    "### 9.5.3 读写消息函数封装"
   ]
  },
  {
   "cell_type": "code",
   "execution_count": null,
   "metadata": {
    "vscode": {
     "languageId": "c"
    }
   },
   "outputs": [],
   "source": [
    "// 写\n",
    "int i2c_write_reg(unsigned char reg,unsigned char val)\n",
    "{\n",
    "    int ret;\n",
    "    char w_buf[2] = {reg,val};\n",
    "    //1.封装消息\n",
    "    struct i2c_msg w_msg = {\n",
    "        .addr = client->addr,\n",
    "        .flags = 0,\n",
    "        .len = 2,\n",
    "        .buf = w_buf,\n",
    "    };\n",
    "    //2.发送消息\n",
    "    ret = i2c_transfer(client->adapter,&w_msg,1);\n",
    "    if(ret != 1){\n",
    "        printk(\"i2c_transfer write error\\n\");\n",
    "        return -EAGAIN;\n",
    "    }\n",
    "    return 0;\n",
    "}\n",
    "\n",
    "// 读\n",
    "int i2c_read_reg(unsigned char reg)\n",
    "{\n",
    "    int ret;\n",
    "    char r_buf[] = {reg};\n",
    "    unsigned char data;\n",
    "    //1.封装消息\n",
    "    struct i2c_msg r_msg[2] = {\n",
    "        [0] = {\n",
    "            .addr = client->addr,\n",
    "            .flags = 0,\n",
    "            .len = 1,\n",
    "            .buf = r_buf,\n",
    "        },\n",
    "        [1] = {\n",
    "            .addr = client->addr,\n",
    "            .flags = 1,\n",
    "            .len = 1,\n",
    "            .buf = &data,\n",
    "        },\n",
    "    };\n",
    " //2.发送消息\n",
    "    ret = i2c_transfer(client->adapter,r_msg,ARRAY_SIZE(r_msg));\n",
    "    if(ret != ARRAY_SIZE(r_msg)){\n",
    "        printk(\"i2c_transfer read error\\n\");\n",
    "        return -EAGAIN;\n",
    "    }\n",
    "    return data;\n",
    "}"
   ]
  }
 ],
 "metadata": {
  "language_info": {
   "name": "python"
  },
  "orig_nbformat": 4
 },
 "nbformat": 4,
 "nbformat_minor": 2
}
