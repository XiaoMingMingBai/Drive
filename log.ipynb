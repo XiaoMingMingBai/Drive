{
 "cells": [
  {
   "cell_type": "markdown",
   "metadata": {},
   "source": [
    "# 1. linux 内核模块\n",
    "linux 内核模块三要素：入口、出口、许可证"
   ]
  },
  {
   "cell_type": "markdown",
   "metadata": {},
   "source": [
    "## 1.1 模块编写基本"
   ]
  },
  {
   "cell_type": "code",
   "execution_count": null,
   "metadata": {
    "vscode": {
     "languageId": "c"
    }
   },
   "outputs": [],
   "source": [
    "#include <linux/init.h>\n",
    "#include <linux/module.h>\n",
    "// 入口\n",
    "// static :限定作用域\n",
    "// int    :函数的返回值类型\n",
    "// __init :内核中定义的宏，#define __init __section(\".init.text\") \n",
    "// .init.text是一个段，在内核链接脚本（vmlinux.lds）中可以找到它\n",
    "// __init告诉编译器将demo_init函数放在.init.text段中\n",
    "// demo_init:入口函数的名字，习惯上入口命名格式：led_init adc_init uart_init...\n",
    "// (void) :没有参数\n",
    "static int __init demo_init(void)\n",
    "{\n",
    "    return 0;\n",
    "}\n",
    "static void __exit demo_exit(void)\n",
    "{\n",
    "}\n",
    "module_init(demo_init); //告诉内核入口地址\n",
    "module_exit(demo_exit); //告诉内核出口地址\n",
    "MODULE_LICENSE(\"GPL\");  // 许可证"
   ]
  },
  {
   "cell_type": "markdown",
   "metadata": {},
   "source": [
    "## 1.2 接口"
   ]
  },
  {
   "cell_type": "code",
   "execution_count": null,
   "metadata": {
    "vscode": {
     "languageId": "c"
    }
   },
   "outputs": [],
   "source": [
    "/**\n",
    " * @功能：打印函数\n",
    " * @参数：fmt 格式化字符串\n",
    " * @返回值：打印字符的个数\n",
    " * @备注：可变参数\n",
    "*/\n",
    "int printk(const char *fmt, ...);"
   ]
  },
  {
   "cell_type": "code",
   "execution_count": null,
   "metadata": {
    "vscode": {
     "languageId": "c"
    }
   },
   "outputs": [],
   "source": [
    "/**\n",
    " * @功能：接受命令的参数\n",
    " * @参数：name  参数名， type 参数类型， perm 参数权限\n",
    " * @返回值：无\n",
    " * @备注：无\n",
    "*/\n",
    "moudle_param(name, type, perm)\n",
    "\n",
    "/**\n",
    " * @功能：对变量进行描述\n",
    " * @参数：_parm 变量名， desc：描述\n",
    " * @返回值：无\n",
    " * @备注：无\n",
    "*/\n",
    "MODULE_PARM_DESC(_parm, desc)\n",
    "\n",
    "/**\n",
    " * @功能：导出符号表\n",
    " * @参数：add 函数名\n",
    " * @返回值：无\n",
    " * @备注：无\n",
    "*/\n",
    "EXPORT_SYMBOL_GPL(add)"
   ]
  },
  {
   "cell_type": "markdown",
   "metadata": {},
   "source": [
    "# 2. 字符设备驱动\n",
    "按照字节流访问，只能顺序访问，不能无序访问的设备。"
   ]
  },
  {
   "cell_type": "markdown",
   "metadata": {},
   "source": [
    "## 2.1 接口"
   ]
  },
  {
   "cell_type": "code",
   "execution_count": null,
   "metadata": {
    "vscode": {
     "languageId": "c"
    }
   },
   "outputs": [],
   "source": [
    "#include <linux/fs.h>\n",
    "/**\n",
    " * @功能：注册字符设备驱动\n",
    " * @参数：major：主设备号，name：设备名，fops：文件操作集\n",
    " * @返回值：成功返回0，失败返回负值\n",
    " * @备注：如果major为0，则由系统自动分配主设备号\n",
    "*/\n",
    "int register_chrdev(unsigned int major, const char *name, const struct file_operations *fops)\n",
    "\n",
    "/**\n",
    " * @功能：注销字符设备驱动\n",
    " * @参数：major：主设备号，name：设备名\n",
    " * @返回值：无\n",
    " * @备注：无\n",
    "*/\n",
    "void unregister_chrdev(unsigned int major, const char *name)"
   ]
  },
  {
   "cell_type": "code",
   "execution_count": null,
   "metadata": {
    "vscode": {
     "languageId": "c"
    }
   },
   "outputs": [],
   "source": [
    "#include <linux/uaccess.h>\n",
    "/**\n",
    " * @功能：从用户空间拷贝数据到内核空间\n",
    " * @参数：to：目标地址，from：源地址，n：拷贝字节数\n",
    " * @返回值：成功返回0，失败返回拷贝失败的字节数\n",
    " * @备注：无\n",
    "*/\n",
    "unsigned long copy_from_user(void *to, const void __user *from, unsigned long n)\n",
    "\n",
    "/**\n",
    " * @功能：从内核空间拷贝数据到用户空间\n",
    " * @参数：to：目标地址，from：源地址，n：拷贝字节数\n",
    " * @返回值：成功返回0，失败返回拷贝失败的字节数\n",
    " * @备注：无\n",
    "*/\n",
    "unsigned long copy_from_user(void *to, const void __user *from, unsigned long n)"
   ]
  },
  {
   "cell_type": "code",
   "execution_count": null,
   "metadata": {
    "vscode": {
     "languageId": "c"
    }
   },
   "outputs": [],
   "source": [
    "#include <linux/io.h>\n",
    "/**\n",
    " * @功能：将物理地址映射到内核虚拟地址空间\n",
    " * @参数：phy_addr：物理地址，size：映射字节数\n",
    " * @返回值：映射成功返回内核虚拟地址，失败返回NULL\n",
    " * @备注：无\n",
    "*/\n",
    "void  *ioremap(resource_size_t phy_addr, size_t size)\n",
    "\n",
    "/**\n",
    " * @功能：解除内核虚拟地址空间的映射\n",
    " * @参数：virt_addr：内核虚拟地址\n",
    " * @返回值：无\n",
    " * @备注：无\n",
    "*/\n",
    "void iounmap(volatile void  *virt_addr)"
   ]
  },
  {
   "cell_type": "code",
   "execution_count": null,
   "metadata": {
    "vscode": {
     "languageId": "c"
    }
   },
   "outputs": [],
   "source": [
    "#include <linux/device.h>\n",
    "/**\n",
    " * @功能：创建一个class\n",
    " * @参数：owner：模块的拥有者，name：class的名字\n",
    " * @返回值：成功返回class指针，失败返回NULL\n",
    " * @备注：无\n",
    "*/\n",
    "struct class * class_create(owner, name)\n",
    "/**\n",
    " * @功能：注销一个class\n",
    " * @参数：cls：class指针\n",
    " * @返回值：无\n",
    " * @备注：无\n",
    "*/\n",
    "void class_destroy(struct class *cls)\n",
    "\n",
    "/**\n",
    " * @功能：创建一个device\n",
    " * @参数：class：class指针，parent：父设备指针，devt：设备号，drvdata：驱动数据，fmt：设备名，...：变参\n",
    " * @返回值：成功返回device指针，失败返回NULL\n",
    " * @备注：fmt,... - 设备名，如 \"myled%d\"，%d - myled0, myled1, ...\n",
    "*/\n",
    "struct device *device_create(struct class *class, struct device *parent, dev_t devt, void *drvdata, const char *fmt, ...)\n",
    "/**\n",
    " * @功能：注销一个device\n",
    " * @参数：class：class指针，devt：设备号\n",
    " * @返回值：无\n",
    " * @备注：无\n",
    "*/\n",
    "void device_destroy(struct class *class, dev_t devt)"
   ]
  },
  {
   "cell_type": "code",
   "execution_count": null,
   "metadata": {
    "vscode": {
     "languageId": "c"
    }
   },
   "outputs": [],
   "source": [
    "#include <linux/cdev.h>\n",
    "/**\n",
    " * @功能：分配一个cdev对象\n",
    " * @参数：无\n",
    " * @返回值：成功返回cdev指针，失败返回NULL\n",
    " * @备注：无\n",
    "*/\n",
    "struct cdev *cdev_alloc(void)\n",
    "\n",
    "/**\n",
    " * @功能：初始化一个cdev对象\n",
    " * @参数：cdev：cdev指针，fops：文件操作集\n",
    " * @返回值：无\n",
    " * @备注：无\n",
    "*/\n",
    "void cdev_init(struct cdev *cdev, const struct file_operations *fops)\n",
    "\n",
    "/**\n",
    " * @功能：添加一个cdev对象到系统\n",
    " * @参数：p：cdev指针，dev：设备号，count：设备号个数\n",
    " * @返回值：成功返回0，失败返回负值\n",
    " * @备注：无\n",
    "*/\n",
    "int cdev_add(struct cdev *p, dev_t dev, unsigned count)\n",
    "\n",
    "/**\n",
    " * @功能：注册指定的设备号\n",
    " * @参数：from: 起始设备号，count：设备号个数，name：设备名\n",
    " * @返回值：成功返回0，失败返回负值\n",
    " * @备注：主设备号不能超过511，\n",
    "*/\n",
    "int register_chrdev_region(dev_t from, unsigned count, const char *name)\n",
    "/**\n",
    " * @功能：注销指定的设备号\n",
    " * @参数：from: 起始设备号，count：设备号个数\n",
    " * @返回值：无\n",
    " * @备注：无\n",
    "*/\n",
    "void unregister_chrdev_region(dev_t from, unsigned count)\n",
    "\n",
    "/**\n",
    " * @功能: 动态注册设备号\n",
    " * @参数：dev：申请到的设备号指针，firstminor：起始次设备号，count：设备号个数，name：设备名\n",
    " * @返回值：成功返回0，失败返回负值\n",
    " * @备注：无\n",
    "*/\n",
    "int alloc_chrdev_region(dev_t *dev, unsigned int firstminor, unsigned int count, const char *name)\n"
   ]
  },
  {
   "cell_type": "code",
   "execution_count": null,
   "metadata": {
    "vscode": {
     "languageId": "c"
    }
   },
   "outputs": [],
   "source": []
  },
  {
   "cell_type": "markdown",
   "metadata": {},
   "source": [
    "## 2.2 结构体"
   ]
  },
  {
   "cell_type": "code",
   "execution_count": null,
   "metadata": {
    "vscode": {
     "languageId": "c"
    }
   },
   "outputs": [],
   "source": [
    "// 文件操作结构体\n",
    "// struct file_operations {\n",
    "//     struct module *owner;\n",
    "//     loff_t (*llseek) (struct file *, loff_t, int);\n",
    "//     ssize_t (*read) (struct file *, char __user *, size_t, loff_t *);\n",
    "//     ssize_t (*write) (struct file *, const char __user *, size_t, loff_t *);\n",
    "//     ssize_t (*aio_read) (struct kiocb *, const struct iovec *, unsigned long, loff_t);\n",
    "//     ssize_t (*aio_write) (struct kiocb *, const struct iovec *, unsigned long, loff_t);\n",
    "//     int (*readdir) (struct file *, void *, filldir_t);\n",
    "//     unsigned int (*poll) (struct file *, struct poll_table_struct *);\n",
    "//     long (*unlocked_ioctl) (struct file *, unsigned int, unsigned long);\n",
    "//     long (*compat_ioctl) (struct file *, unsigned int, unsigned long);\n",
    "//     int (*mmap) (struct file *, struct vm_area_struct *);\n",
    "//     int (*open) (struct inode *, struct file *);\n",
    "//     int (*flush) (struct file *, fl_owner_t id);\n",
    "//     int (*release) (struct inode *, struct file *);\n",
    "//     int (*fsync) (struct file *, loff_t, loff_t, int datasync);\n",
    "//     int (*aio_fsync) (struct kiocb *, int datasync);\n",
    "//     int (*fasync) (int, struct file *, int);\n",
    "//     int (*lock) (struct file *, int, struct file_lock *);\n",
    "//     ssize_t (*sendpage) (struct file *, struct page *, int, size_t, loff_t *, int);\n",
    "//     unsigned long (*get_unmapped_area)(struct file *, unsigned long, unsigned long, unsigned long, unsigned long);\n",
    "//     int (*check_flags)(int);\n",
    "//     int (*flock) (struct file *, int, struct file_lock *);\n",
    "//     ssize_t (*splice_write)(struct pipe_inode_info *, struct file *, loff_t *, size_t, unsigned int);\n",
    "//     ssize_t (*splice_read)(struct file *, loff_t *, struct pipe_inode_info *, size_t, unsigned int);\n",
    "//     int (*setlease)(struct file *, long, struct file_lock **, void **);\n",
    "//     long (*fallocate)(struct file *file, int mode, loff_t offset, loff_t len);\n",
    "// };"
   ]
  },
  {
   "cell_type": "code",
   "execution_count": null,
   "metadata": {
    "vscode": {
     "languageId": "c"
    }
   },
   "outputs": [],
   "source": [
    "// 文件结构体\n",
    "// struct file {\n",
    "//     struct path     f_path;\n",
    "//     struct inode    *f_inode;       /* cached value */\n",
    "//     const struct file_operations    *f_op;\n",
    "//     spinlock_t      f_lock;         /* f_ep_links, f_flags, no IRQ */\n",
    "//     atomic_long_t   f_count;\n",
    "//     unsigned int    f_flags;\n",
    "//     fmode_t         f_mode;\n",
    "//     loff_t          f_pos;\n",
    "//     struct fown_struct f_owner;\n",
    "//     const struct cred *f_cred;\n",
    "//     struct file_ra_state    f_ra;\n",
    "//     u64             f_version;\n",
    "// #ifdef CONFIG_SECURITY\n",
    "//     void            *f_security;\n",
    "// #endif\n",
    "//     /* needed for tty driver, and maybe others */\n",
    "//     void            *private_data;\n",
    "// #ifdef CONFIG_EPOLL\n",
    "//     /* Used by fs/eventpoll.c to link all the hooks to this file */\n",
    "//     struct list_head    f_ep_links;\n",
    "//     struct list_head    f_tfile_llink;\n",
    "// #endif /* #ifdef CONFIG_EPOLL */\n",
    "//     struct address_space    *f_mapping;\n",
    "// #ifdef CONFIG_DEBUG_WRITECOUNT\n",
    "//     unsigned long f_mnt_write_state;\n",
    "// #endif\n",
    "// };"
   ]
  },
  {
   "cell_type": "markdown",
   "metadata": {},
   "source": [
    "# 3. 内核中的并发和竞态\n",
    "当多个进程通过同一个驱动（临界资源）访问硬件的时候，竞态就会产生。有 5 种解决方案来优化程序。"
   ]
  },
  {
   "cell_type": "markdown",
   "metadata": {},
   "source": [
    "## 3.1 中断屏蔽\n",
    "暂时的关闭中断，只针对单核处理器有效。"
   ]
  },
  {
   "cell_type": "code",
   "execution_count": null,
   "metadata": {
    "vscode": {
     "languageId": "c"
    }
   },
   "outputs": [],
   "source": [
    "local_irq_disable();\n",
    "// 临界区\n",
    "local_irq_enable();"
   ]
  },
  {
   "cell_type": "markdown",
   "metadata": {},
   "source": [
    "## 3.2 自旋锁（忙等锁）\n",
    "除首次获得锁之外的进程尝试获取锁会进入自旋状态直到获得锁的进程释放锁。"
   ]
  },
  {
   "cell_type": "code",
   "execution_count": null,
   "metadata": {
    "vscode": {
     "languageId": "c"
    }
   },
   "outputs": [],
   "source": [
    "// 由于自旋锁内的代码不能太长，所以常用来加锁一个信号量\n",
    "int flag;\n",
    "// 1. 定义一个自旋锁\n",
    "spinlock_t my_lock;\n",
    "// 2. 初始化自旋锁\n",
    "/**\n",
    " * @功能：初始化自旋锁\n",
    " * @参数：lock：自旋锁指针\n",
    " * @返回值：无\n",
    " * @备注：无\n",
    "*/\n",
    "void spin_lock_init(spinlock_t *lock);\n",
    "// 3. 加锁\n",
    "/**\n",
    " * @功能：加锁\n",
    " * @参数：lock：自旋锁指针\n",
    " * @返回值：无\n",
    " * @备注：无\n",
    "*/\n",
    "void spin_lock(spinlock_t *lock);\n",
    "// 4. 解锁\n",
    "/**\n",
    " * @功能：解锁\n",
    " * @参数：lock：自旋锁指针\n",
    " * @返回值：无\n",
    " * @备注：无\n",
    "*/\n",
    "void spin_unlock(spinlock_t *lock);"
   ]
  },
  {
   "cell_type": "markdown",
   "metadata": {},
   "source": [
    "## 3.3 信号量\n",
    "除首次获得信号量之外的进程尝试获取信号量会进入休眠状态直到获得获得信号量的进程释放信号量，休眠不消耗消耗 CPU 资源。"
   ]
  },
  {
   "cell_type": "code",
   "execution_count": null,
   "metadata": {
    "vscode": {
     "languageId": "c"
    }
   },
   "outputs": [],
   "source": [
    "// 1. 定义一个信号量\n",
    "struct semaphore my_sem;\n",
    "// 2. 初始化信号量\n",
    "/**\n",
    " * @功能：初始化信号量\n",
    " * @参数：sem：信号量指针，val：信号量初始值\n",
    " * @返回值：无\n",
    " * @备注：val一般为1，表示只有一个进程可以访问临界区\n",
    "*/\n",
    "void sema_init(struct semaphore *sem, int val);\n",
    "// 3. 加锁\n",
    "/**\n",
    " * @功能：加锁\n",
    " * @参数：sem：信号量指针\n",
    " * @返回值：无\n",
    " * @备注：让信号量的值减1，如果值为0，则休眠等待\n",
    "*/\n",
    "void down(struct semaphore *sem);\n",
    "// 4. 解锁\n",
    "/**\n",
    " * @功能：解锁\n",
    " * @参数：sem：信号量指针\n",
    " * @返回值：无\n",
    " * @备注：让信号量的值加1，如果值为0，则唤醒等待的进程\n",
    "*/\n",
    "void up(struct semaphore *sem);\n",
    "// 5. 尝试加锁\n",
    "/**\n",
    " * @功能：尝试加锁\n",
    " * @参数：sem：信号量指针\n",
    " * @返回值：成功返回0，失败返回1\n",
    " * @备注：不会休眠，相当于非阻塞\n",
    "*/\n",
    "int down_trylock(struct semaphore *sem);"
   ]
  },
  {
   "cell_type": "markdown",
   "metadata": {},
   "source": [
    "## 3.4 互斥体\n",
    "互斥体与信号量的区别是在获取不到资源的情况下，会稍微等一会再进入休眠。  \n",
    "通常在不确定临界区大小的时候，优先使用互斥体。"
   ]
  },
  {
   "cell_type": "code",
   "execution_count": null,
   "metadata": {
    "vscode": {
     "languageId": "c"
    }
   },
   "outputs": [],
   "source": [
    "// 1. 定义一个互斥锁\n",
    "struct mutex my_mutex;\n",
    "// 2. 初始化互斥锁\n",
    "/**\n",
    " * @功能：初始化互斥锁\n",
    " * @参数：lock：互斥锁指针\n",
    " * @返回值：无\n",
    " * @备注：无\n",
    "*/\n",
    "void mutex_init(struct mutex *lock);\n",
    "// 3. 加锁\n",
    "/**\n",
    " * @功能：加锁\n",
    " * @参数：lock：互斥锁指针\n",
    " * @返回值：无\n",
    " * @备注：无\n",
    "*/\n",
    "void mutex_lock(struct mutex *lock);\n",
    "// 4. 解锁\n",
    "/**\n",
    " * @功能：解锁\n",
    " * @参数：lock：互斥锁指针\n",
    " * @返回值：无\n",
    " * @备注：无\n",
    "*/\n",
    "void mutex_unlock(struct mutex *lock);\n",
    "// 5. 尝试加锁\n",
    "/**\n",
    " * @功能：尝试加锁\n",
    " * @参数：lock：互斥锁指针\n",
    " * @返回值：成功返回1，失败返回0\n",
    " * @备注：无\n",
    "*/\n",
    "int mutex_trylock(struct mutex *lock);"
   ]
  },
  {
   "cell_type": "markdown",
   "metadata": {},
   "source": [
    "## 3.5 原子操作\n",
    "相当于将整个操作看成一个不可被分割的状态，只要开始执行就必须一次执行完。对应原子变量同时只能有一个核处理。在一个核上运行的时候修改 counter 是通过内联汇编完成的。"
   ]
  },
  {
   "cell_type": "code",
   "execution_count": null,
   "metadata": {
    "vscode": {
     "languageId": "c"
    }
   },
   "outputs": [],
   "source": [
    "typedef struct {\n",
    "    int counter;\n",
    "} atomic_t;"
   ]
  },
  {
   "cell_type": "code",
   "execution_count": null,
   "metadata": {
    "vscode": {
     "languageId": "c"
    }
   },
   "outputs": [],
   "source": [
    "// 1. 定义一个原子变量\n",
    "atomic_t my_atomic;\n",
    "// 2. 初始化原子变量\n",
    "ATOMIC_INIT(my_atomic);\n",
    "// 3. 读取原子变量的值\n",
    "/**\n",
    " * @功能：读取原子变量的值\n",
    " * @参数：v：原子变量指针\n",
    " * @返回值：原子变量的值\n",
    " * @备注：无\n",
    "*/\n",
    "int atomic_read(atomic_t *v);\n",
    "// 4. 设置原子变量的值\n",
    "/**\n",
    " * @功能：设置原子变量的值\n",
    " * @参数：v：原子变量指针，i：要设置的值\n",
    " * @返回值：无\n",
    " * @备注：无\n",
    "*/\n",
    "void atomic_set(atomic_t *v, int i);\n",
    "// 5. 原子变量加1\n",
    "/**\n",
    " * @功能：原子变量加1\n",
    " * @参数：v：原子变量指针\n",
    " * @返回值：无\n",
    " * @备注：无\n",
    "*/\n",
    "void atomic_inc(atomic_t *v);\n",
    "// 6. 原子变量减1\n",
    "/**\n",
    " * @功能：原子变量减1\n",
    " * @参数：v：原子变量指针\n",
    " * @返回值：无\n",
    " * @备注：无\n",
    "*/\n",
    "void atomic_dec(atomic_t *v);\n",
    "// "
   ]
  },
  {
   "cell_type": "markdown",
   "metadata": {},
   "source": [
    "# 4. IO模型"
   ]
  },
  {
   "cell_type": "markdown",
   "metadata": {},
   "source": [
    "## 4.1 非阻塞IO\n",
    "调用函数读取数据的时候，不管数据是否准备好函数都会立即返回。"
   ]
  },
  {
   "cell_type": "markdown",
   "metadata": {},
   "source": [
    "## 4.2 阻塞IO模型\n",
    "调用函数读取数据的时候，如果数据准备好了就会立即返回，如果数据没有准备好则进程休眠。"
   ]
  },
  {
   "cell_type": "code",
   "execution_count": null,
   "metadata": {
    "vscode": {
     "languageId": "c"
    }
   },
   "outputs": [],
   "source": [
    "// 1. 定义信号\n",
    "unsigned int flag;\n",
    "// 2. 定义等待队列头\n",
    "wait_queue_head_t my_queue;\n",
    "// 3. 初始化等待队列头\n",
    "init_waitqueue_head(&my_queue);\n",
    "// 4. 进程加入等待队列\n",
    "wait_event(my_queue, flag);\n",
    "// 5. 进程加入等待队列，超时\n",
    "wait_event_timeout(my_queue, flag, 1000);\n",
    "// 6. 进程加入等待队列，中断\n",
    "wait_event_interruptible(my_queue, flag);\n",
    "// 7. 进程加入等待队列，中断，超时\n",
    "wait_event_interruptible_timeout(my_queue, flag, 1000);\n",
    "// 8. flag置为1\n",
    "flag = 1;\n",
    "// 9. 唤醒等待队列头\n",
    "wake_up(&my_queue);\n",
    "// 10. 唤醒等待队列头，中断\n",
    "wake_up_interruptible(&my_queue);\n"
   ]
  },
  {
   "cell_type": "markdown",
   "metadata": {},
   "source": [
    "## 4.3 IO多路复用\n",
    "在同一个app应用程序中如果想要同时监听多个fd对应数据。就需要使用select/poll/epoll来完成监听。如果所有的文件描述符的数据都没有准备好，此时进程休眠。如果有一个或者多个硬件的数据准备好就会，产生硬件中断，在处理函数中唤醒休眠的进程。此时select/poll/epoll就会返回，从就绪的表中找到准备好数据的文件描述符，然后调用read将数据读取到用户空间即可。"
   ]
  },
  {
   "cell_type": "code",
   "execution_count": null,
   "metadata": {
    "vscode": {
     "languageId": "c"
    }
   },
   "outputs": [],
   "source": [
    "// 1. 定义返回值\n",
    "__poll_t mask = 0;\n",
    "// 2. 阻塞等待\n",
    "poll_wait(file, &my_queue, wait);\n",
    "// 3. 判断是否可读\n",
    "if (flag) {\n",
    "    mask |= POLLIN | POLLRDNORM; //EPOLLIN 读  EPOLLOUT写\n",
    "}\n",
    "// 4. 返回\n",
    "return mask;"
   ]
  },
  {
   "cell_type": "markdown",
   "metadata": {},
   "source": [
    "# 5. 设备树\n"
   ]
  }
 ],
 "metadata": {
  "language_info": {
   "name": "python"
  },
  "orig_nbformat": 4
 },
 "nbformat": 4,
 "nbformat_minor": 2
}
