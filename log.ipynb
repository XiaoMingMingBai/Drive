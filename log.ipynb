{
 "cells": [
  {
   "cell_type": "markdown",
   "metadata": {},
   "source": [
    "# 1. linux 内核模块\n",
    "linux 内核模块三要素：入口、出口、许可证"
   ]
  },
  {
   "cell_type": "markdown",
   "metadata": {},
   "source": [
    "# 2. 字符设备驱动\n",
    "按照字节流访问，只能顺序访问，不能无序访问的设备。"
   ]
  },
  {
   "cell_type": "markdown",
   "metadata": {},
   "source": [
    "## 2.1 接口"
   ]
  },
  {
   "cell_type": "code",
   "execution_count": null,
   "metadata": {
    "vscode": {
     "languageId": "c"
    }
   },
   "outputs": [],
   "source": [
    "#include <linux/fs.h>\n",
    "/**\n",
    " * @功能：注册字符设备驱动\n",
    " * @参数：major：主设备号，name：设备名，fops：文件操作集\n",
    " * @返回值：成功返回0，失败返回负值\n",
    " * @备注：如果major为0，则由系统自动分配主设备号\n",
    "*/\n",
    "int register_chrdev(unsigned int major, const char *name, const struct file_operations *fops)\n",
    "\n",
    "/**\n",
    " * @功能：注销字符设备驱动\n",
    " * @参数：major：主设备号，name：设备名\n",
    " * @返回值：无\n",
    " * @备注：无\n",
    "*/\n",
    "void unregister_chrdev(unsigned int major, const char *name)"
   ]
  },
  {
   "cell_type": "code",
   "execution_count": null,
   "metadata": {
    "vscode": {
     "languageId": "c"
    }
   },
   "outputs": [],
   "source": [
    "#include <linux/uaccess.h>\n",
    "/**\n",
    " * @功能：从用户空间拷贝数据到内核空间\n",
    " * @参数：to：目标地址，from：源地址，n：拷贝字节数\n",
    " * @返回值：成功返回0，失败返回拷贝失败的字节数\n",
    " * @备注：无\n",
    "*/\n",
    "unsigned long copy_from_user(void *to, const void __user *from, unsigned long n)\n",
    "\n",
    "/**\n",
    " * @功能：从内核空间拷贝数据到用户空间\n",
    " * @参数：to：目标地址，from：源地址，n：拷贝字节数\n",
    " * @返回值：成功返回0，失败返回拷贝失败的字节数\n",
    " * @备注：无\n",
    "*/\n",
    "unsigned long copy_from_user(void *to, const void __user *from, unsigned long n)"
   ]
  },
  {
   "cell_type": "code",
   "execution_count": null,
   "metadata": {
    "vscode": {
     "languageId": "c"
    }
   },
   "outputs": [],
   "source": [
    "#include <linux/io.h>\n",
    "/**\n",
    " * @功能：将物理地址映射到内核虚拟地址空间\n",
    " * @参数：phy_addr：物理地址，size：映射字节数\n",
    " * @返回值：映射成功返回内核虚拟地址，失败返回NULL\n",
    " * @备注：无\n",
    "*/\n",
    "void  *ioremap(resource_size_t phy_addr, size_t size)\n",
    "\n",
    "/**\n",
    " * @功能：解除内核虚拟地址空间的映射\n",
    " * @参数：virt_addr：内核虚拟地址\n",
    " * @返回值：无\n",
    " * @备注：无\n",
    "*/\n",
    "void iounmap(volatile void  *virt_addr)"
   ]
  },
  {
   "cell_type": "code",
   "execution_count": null,
   "metadata": {
    "vscode": {
     "languageId": "c"
    }
   },
   "outputs": [],
   "source": [
    "#include <linux/device.h>\n",
    "/**\n",
    " * @功能：创建一个class\n",
    " * @参数：owner：模块的拥有者，name：class的名字\n",
    " * @返回值：成功返回class指针，失败返回NULL\n",
    " * @备注：无\n",
    "*/\n",
    "struct class * class_create(owner, name)\n",
    "\n",
    "// void class_destroy(struct class *cls)\n",
    "/**\n",
    " * @功能：创建一个device\n",
    " * @参数：class：class指针，parent：父设备指针，devt：设备号，drvdata：驱动数据，fmt：设备名，...：变参\n",
    " * @返回值：成功返回device指针，失败返回NULL\n",
    " * @备注：fmt,... - 设备名，如 \"myled%d\"，%d - myled0, myled1, ...\n",
    "*/\n",
    "struct device *device_create(struct class *class, struct device *parent, dev_t devt, void *drvdata, const char *fmt, ...)"
   ]
  },
  {
   "cell_type": "code",
   "execution_count": null,
   "metadata": {
    "vscode": {
     "languageId": "c"
    }
   },
   "outputs": [],
   "source": [
    "#include <linux/cdev.h>\n",
    "/**\n",
    " * @功能：分配一个cdev对象\n",
    " * @参数：无\n",
    " * @返回值：成功返回cdev指针，失败返回NULL\n",
    " * @备注：无\n",
    "*/\n",
    "struct cdev *cdev_alloc(void)\n",
    "\n",
    "/**\n",
    " * @功能：初始化一个cdev对象\n",
    " * @参数：cdev：cdev指针，fops：文件操作集\n",
    " * @返回值：无\n",
    " * @备注：无\n",
    "*/\n",
    "void cdev_init(struct cdev *cdev, const struct file_operations *fops)\n",
    "\n",
    "/**\n",
    " * @功能：注册指定的设备号\n",
    " * @参数：from: 起始设备号，count：设备号个数，name：设备名\n",
    " * @返回值：成功返回0，失败返回负值\n",
    " * @备注：主设备号不能超过511，\n",
    "*/\n",
    "register_chrdev_region(dev_t from, unsigned count, const char *name)\n",
    "/**\n",
    " * @功能：注销指定的设备号\n",
    " * @参数：from: 起始设备号，count：设备号个数\n",
    " * @返回值：无\n",
    " * @备注：无\n",
    "*/\n",
    "void unregister_chrdev_region(dev_t from, unsigned count)\n",
    "\n",
    "/**\n",
    " * @功能: 动态注册设备号\n",
    " * @参数：dev：申请到的设备号指针，firstminor：起始次设备号，count：设备号个数，name：设备名\n",
    " * @返回值：成功返回0，失败返回负值\n",
    " * @备注：无\n",
    "*/\n",
    "int alloc_chrdev_region(dev_t *dev, unsigned int firstminor, unsigned int count, const char *name)\n",
    "\n",
    "/**\n",
    " * @功能：添加一个cdev对象到系统\n",
    " * @参数：p：cdev指针，dev：设备号，count：设备号个数\n",
    " * @返回值：成功返回0，失败返回负值\n",
    " * @备注：无\n",
    "*/\n",
    "int cdev_add(struct cdev *p, dev_t dev, unsigned count)"
   ]
  },
  {
   "cell_type": "code",
   "execution_count": null,
   "metadata": {
    "vscode": {
     "languageId": "c"
    }
   },
   "outputs": [],
   "source": []
  },
  {
   "cell_type": "markdown",
   "metadata": {},
   "source": [
    "## 2.2 结构体"
   ]
  },
  {
   "cell_type": "code",
   "execution_count": null,
   "metadata": {
    "vscode": {
     "languageId": "c"
    }
   },
   "outputs": [],
   "source": [
    "// 文件操作结构体\n",
    "// struct file_operations {\n",
    "//     struct module *owner;\n",
    "//     loff_t (*llseek) (struct file *, loff_t, int);\n",
    "//     ssize_t (*read) (struct file *, char __user *, size_t, loff_t *);\n",
    "//     ssize_t (*write) (struct file *, const char __user *, size_t, loff_t *);\n",
    "//     ssize_t (*aio_read) (struct kiocb *, const struct iovec *, unsigned long, loff_t);\n",
    "//     ssize_t (*aio_write) (struct kiocb *, const struct iovec *, unsigned long, loff_t);\n",
    "//     int (*readdir) (struct file *, void *, filldir_t);\n",
    "//     unsigned int (*poll) (struct file *, struct poll_table_struct *);\n",
    "//     long (*unlocked_ioctl) (struct file *, unsigned int, unsigned long);\n",
    "//     long (*compat_ioctl) (struct file *, unsigned int, unsigned long);\n",
    "//     int (*mmap) (struct file *, struct vm_area_struct *);\n",
    "//     int (*open) (struct inode *, struct file *);\n",
    "//     int (*flush) (struct file *, fl_owner_t id);\n",
    "//     int (*release) (struct inode *, struct file *);\n",
    "//     int (*fsync) (struct file *, loff_t, loff_t, int datasync);\n",
    "//     int (*aio_fsync) (struct kiocb *, int datasync);\n",
    "//     int (*fasync) (int, struct file *, int);\n",
    "//     int (*lock) (struct file *, int, struct file_lock *);\n",
    "//     ssize_t (*sendpage) (struct file *, struct page *, int, size_t, loff_t *, int);\n",
    "//     unsigned long (*get_unmapped_area)(struct file *, unsigned long, unsigned long, unsigned long, unsigned long);\n",
    "//     int (*check_flags)(int);\n",
    "//     int (*flock) (struct file *, int, struct file_lock *);\n",
    "//     ssize_t (*splice_write)(struct pipe_inode_info *, struct file *, loff_t *, size_t, unsigned int);\n",
    "//     ssize_t (*splice_read)(struct file *, loff_t *, struct pipe_inode_info *, size_t, unsigned int);\n",
    "//     int (*setlease)(struct file *, long, struct file_lock **, void **);\n",
    "//     long (*fallocate)(struct file *file, int mode, loff_t offset, loff_t len);\n",
    "// };"
   ]
  },
  {
   "cell_type": "code",
   "execution_count": null,
   "metadata": {
    "vscode": {
     "languageId": "c"
    }
   },
   "outputs": [],
   "source": [
    "// 文件结构体\n",
    "// struct file {\n",
    "//     struct path     f_path;\n",
    "//     struct inode    *f_inode;       /* cached value */\n",
    "//     const struct file_operations    *f_op;\n",
    "//     spinlock_t      f_lock;         /* f_ep_links, f_flags, no IRQ */\n",
    "//     atomic_long_t   f_count;\n",
    "//     unsigned int    f_flags;\n",
    "//     fmode_t         f_mode;\n",
    "//     loff_t          f_pos;\n",
    "//     struct fown_struct f_owner;\n",
    "//     const struct cred *f_cred;\n",
    "//     struct file_ra_state    f_ra;\n",
    "//     u64             f_version;\n",
    "// #ifdef CONFIG_SECURITY\n",
    "//     void            *f_security;\n",
    "// #endif\n",
    "//     /* needed for tty driver, and maybe others */\n",
    "//     void            *private_data;\n",
    "// #ifdef CONFIG_EPOLL\n",
    "//     /* Used by fs/eventpoll.c to link all the hooks to this file */\n",
    "//     struct list_head    f_ep_links;\n",
    "//     struct list_head    f_tfile_llink;\n",
    "// #endif /* #ifdef CONFIG_EPOLL */\n",
    "//     struct address_space    *f_mapping;\n",
    "// #ifdef CONFIG_DEBUG_WRITECOUNT\n",
    "//     unsigned long f_mnt_write_state;\n",
    "// #endif\n",
    "// };"
   ]
  },
  {
   "cell_type": "markdown",
   "metadata": {},
   "source": [
    "# 3. 内核中的并发和竞态\n",
    "当多个进程通过同一个驱动（临界资源）访问硬件的时候，竞态就会产生。有 5 种解决方案来优化程序。"
   ]
  },
  {
   "cell_type": "markdown",
   "metadata": {},
   "source": [
    "## 1.1 中断屏蔽\n",
    "暂时的关闭中断，只针对单核处理器有效。"
   ]
  },
  {
   "cell_type": "code",
   "execution_count": null,
   "metadata": {
    "vscode": {
     "languageId": "c"
    }
   },
   "outputs": [],
   "source": [
    "local_irq_disable();\n",
    "// 临界区\n",
    "local_irq_enable();"
   ]
  },
  {
   "cell_type": "markdown",
   "metadata": {},
   "source": [
    "## 1.2 自旋锁（忙等锁）\n",
    "除首次获得锁之外的进程尝试获取锁会进入自旋状态直到获得锁的进程释放锁。"
   ]
  },
  {
   "cell_type": "code",
   "execution_count": null,
   "metadata": {
    "vscode": {
     "languageId": "c"
    }
   },
   "outputs": [],
   "source": [
    "// 由于自旋锁内的代码不能太长，所以常用来加锁一个信号量\n",
    "int flag;\n",
    "// 1. 定义一个自旋锁\n",
    "spinlock_t my_lock;\n",
    "// 2. 初始化自旋锁\n",
    "spin_lock_init(&my_lock);\n",
    "// 3. 加锁\n",
    "spin_lock(&my_lock);\n",
    "// 4. 解锁\n",
    "spin_unlock(&my_lock);"
   ]
  }
 ],
 "metadata": {
  "language_info": {
   "name": "python"
  },
  "orig_nbformat": 4
 },
 "nbformat": 4,
 "nbformat_minor": 2
}
